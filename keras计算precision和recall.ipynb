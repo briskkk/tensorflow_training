{
 "cells": [
  {
   "cell_type": "code",
   "execution_count": 1,
   "metadata": {},
   "outputs": [
    {
     "name": "stdout",
     "output_type": "stream",
     "text": [
      "1.12.0\n",
      "2.1.6-tf\n"
     ]
    },
    {
     "name": "stderr",
     "output_type": "stream",
     "text": [
      "Using TensorFlow backend.\n"
     ]
    }
   ],
   "source": [
    "import tensorflow as tf\n",
    "from tensorflow.keras import layers\n",
    "from tensorflow import keras\n",
    "import keras_metrics\n",
    "\n",
    "print(tf.VERSION)\n",
    "print(tf.keras.__version__)"
   ]
  },
  {
   "cell_type": "code",
   "execution_count": 2,
   "metadata": {},
   "outputs": [],
   "source": [
    "def as_keras_metric(method):\n",
    "    import functools\n",
    "    from tensorflow.keras import backend as K\n",
    "    import tensorflow as tf\n",
    "    @functools.wraps(method)\n",
    "    def wrapper(self, args, **kwargs):\n",
    "        value, update_op = method(self, args, **kwargs)\n",
    "        K.get_session().run(tf.local_variables_initializer())\n",
    "        with tf.control_dependencies([update_op]):\n",
    "            value = tf.identity(value)\n",
    "        return value\n",
    "    return wrapper"
   ]
  },
  {
   "cell_type": "code",
   "execution_count": 3,
   "metadata": {},
   "outputs": [],
   "source": [
    "precision = as_keras_metric(tf.metrics.precision)\n",
    "recall = as_keras_metric(tf.metrics.recall)"
   ]
  },
  {
   "cell_type": "code",
   "execution_count": 4,
   "metadata": {},
   "outputs": [],
   "source": [
    "model = tf.keras.Sequential()\n",
    "\n",
    "model.add(layers.Dense(64, activation = 'relu',bias_initializer=tf.keras.initializers.constant(2.0)))\n",
    "\n",
    "model.add(layers.Dense(32, activation = 'relu',bias_initializer=tf.keras.initializers.constant(2.0),))\n",
    "\n",
    "model.add(layers.Dense(5, activation = 'softmax'))"
   ]
  },
  {
   "cell_type": "code",
   "execution_count": null,
   "metadata": {},
   "outputs": [],
   "source": [
    "#precision  = keras_metrics.precision()\n",
    "#recall = keras_metrics.recall()"
   ]
  },
  {
   "cell_type": "code",
   "execution_count": 5,
   "metadata": {},
   "outputs": [],
   "source": [
    "model.compile(optimizer=tf.train.AdamOptimizer(0.001),\n",
    "              loss = 'categorical_crossentropy',\n",
    "              metrics = ['accuracy',precision, recall])"
   ]
  },
  {
   "cell_type": "code",
   "execution_count": 6,
   "metadata": {},
   "outputs": [],
   "source": [
    "import pandas as pd\n",
    "from  sklearn.model_selection import train_test_split\n",
    "\n",
    "dataX = pd.read_csv('~/Datasets/kdddd/X_1.csv')\n",
    "datay = pd.read_csv('~/Datasets/kdddd/y_1.csv')\n",
    "\n",
    "data_X = dataX.astype('float32')\n",
    "data_y = datay.astype('float32')\n",
    "\n",
    "X_train, X_val, y_train, y_val = train_test_split(data_X.values,data_y.values,test_size = 0.2, random_state=42)"
   ]
  },
  {
   "cell_type": "code",
   "execution_count": 7,
   "metadata": {},
   "outputs": [
    {
     "name": "stdout",
     "output_type": "stream",
     "text": [
      "Train on 395216 samples, validate on 98805 samples\n",
      "Epoch 1/10\n",
      "395216/395216 [==============================] - 6s 15us/step - loss: 0.1795 - acc: 0.9877 - precision: 0.4804 - recall: 0.9918 - val_loss: 0.1339 - val_acc: 0.9909 - val_precision: 0.4878 - val_recall: 0.9929\n",
      "Epoch 2/10\n",
      "395216/395216 [==============================] - 6s 14us/step - loss: 0.1328 - acc: 0.9912 - precision: 0.4854 - recall: 0.9931 - val_loss: 0.1276 - val_acc: 0.9916 - val_precision: 0.4843 - val_recall: 0.9932\n",
      "Epoch 3/10\n",
      "395216/395216 [==============================] - 6s 14us/step - loss: 0.1302 - acc: 0.9914 - precision: 0.4831 - recall: 0.9932 - val_loss: 0.1257 - val_acc: 0.9919 - val_precision: 0.4819 - val_recall: 0.9933\n",
      "Epoch 4/10\n",
      "395216/395216 [==============================] - 6s 14us/step - loss: 0.1262 - acc: 0.9919 - precision: 0.4809 - recall: 0.9933 - val_loss: 0.1298 - val_acc: 0.9913 - val_precision: 0.4804 - val_recall: 0.9932\n",
      "Epoch 5/10\n",
      "395216/395216 [==============================] - 6s 14us/step - loss: 0.1259 - acc: 0.9919 - precision: 0.4781 - recall: 0.9932 - val_loss: 0.1287 - val_acc: 0.9918 - val_precision: 0.4754 - val_recall: 0.9931\n",
      "Epoch 6/10\n",
      "395216/395216 [==============================] - 6s 14us/step - loss: 0.1268 - acc: 0.9919 - precision: 0.4741 - recall: 0.9931 - val_loss: 0.1245 - val_acc: 0.9921 - val_precision: 0.4743 - val_recall: 0.9930\n",
      "Epoch 7/10\n",
      "395216/395216 [==============================] - 6s 14us/step - loss: 0.1250 - acc: 0.9920 - precision: 0.4743 - recall: 0.9930 - val_loss: 0.1240 - val_acc: 0.9921 - val_precision: 0.4743 - val_recall: 0.9930\n",
      "Epoch 8/10\n",
      "395216/395216 [==============================] - 6s 14us/step - loss: 0.1253 - acc: 0.9920 - precision: 0.4741 - recall: 0.9930 - val_loss: 0.1238 - val_acc: 0.9922 - val_precision: 0.4740 - val_recall: 0.9929\n",
      "Epoch 9/10\n",
      "395216/395216 [==============================] - 6s 14us/step - loss: 0.1236 - acc: 0.9920 - precision: 0.4727 - recall: 0.9929 - val_loss: 0.1200 - val_acc: 0.9922 - val_precision: 0.4720 - val_recall: 0.9930\n",
      "Epoch 10/10\n",
      "395216/395216 [==============================] - 6s 15us/step - loss: 0.1206 - acc: 0.9921 - precision: 0.4716 - recall: 0.9930 - val_loss: 0.0996 - val_acc: 0.9921 - val_precision: 0.4691 - val_recall: 0.9930\n"
     ]
    },
    {
     "data": {
      "text/plain": [
       "<tensorflow.python.keras.callbacks.History at 0x7fb1d5f540b8>"
      ]
     },
     "execution_count": 7,
     "metadata": {},
     "output_type": "execute_result"
    }
   ],
   "source": [
    "model.fit(X_train, y_train, epochs=10, batch_size=100,validation_data=(X_val, y_val))"
   ]
  },
  {
   "cell_type": "code",
   "execution_count": null,
   "metadata": {},
   "outputs": [],
   "source": [
    "scores =  model.evaluate(X_val, y_val) \n",
    "print(\"Accuracy: %.2f%%\" % (scores[1]*100))"
   ]
  },
  {
   "cell_type": "code",
   "execution_count": null,
   "metadata": {},
   "outputs": [],
   "source": [
    "@as_keras_metric\n",
    "def auc_pr(y_true, y_pred, curve='PR'):\n",
    "    return tf.metrics.auc(y_true, y_pred, curve)"
   ]
  },
  {
   "cell_type": "code",
   "execution_count": null,
   "metadata": {},
   "outputs": [],
   "source": []
  }
 ],
 "metadata": {
  "kernelspec": {
   "display_name": "Python [conda env:venv]",
   "language": "python",
   "name": "conda-env-venv-py"
  },
  "language_info": {
   "codemirror_mode": {
    "name": "ipython",
    "version": 3
   },
   "file_extension": ".py",
   "mimetype": "text/x-python",
   "name": "python",
   "nbconvert_exporter": "python",
   "pygments_lexer": "ipython3",
   "version": "3.6.7"
  }
 },
 "nbformat": 4,
 "nbformat_minor": 2
}
