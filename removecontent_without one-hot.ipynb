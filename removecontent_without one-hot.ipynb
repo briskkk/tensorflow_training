{
 "cells": [
  {
   "cell_type": "code",
   "execution_count": 2,
   "metadata": {},
   "outputs": [],
   "source": [
    "import pandas as pd"
   ]
  },
  {
   "cell_type": "code",
   "execution_count": 3,
   "metadata": {},
   "outputs": [],
   "source": [
    "kdd = pd.read_csv('D:/Dataset/NSL_KDD-master/NSL_KDD-master/KDDTrain+.csv',names = [ 'duration'\n",
    ", 'protocol_type' \n",
    ", 'service'\n",
    ", 'flag'\n",
    ", 'src_bytes' \n",
    ", 'dst_bytes' \n",
    ", 'land' \n",
    ", 'wrong_fragment' \n",
    ", 'urgent' \n",
    ", 'hot' \n",
    ", 'num_failed_logins' \n",
    ", 'logged_in' \n",
    ", 'num_compromised' \n",
    ", 'root_shell' \n",
    ", 'su_attempted' \n",
    ", 'num_root' \n",
    ", 'num_file_creations' \n",
    ", 'num_shells' \n",
    ", 'num_access_files' \n",
    ", 'num_outbound_cmds' \n",
    ", 'is_host_login'  \n",
    ", 'is_guest_login' \n",
    ", 'count' \n",
    ", 'srv_count' \n",
    ", 'serror_rate' \n",
    ", 'srv_serror_rate' \n",
    ", 'rerror_rate' \n",
    ", 'srv_rerror_rate' \n",
    ", 'same_srv_rate' \n",
    ", 'diff_srv_rate' \n",
    ", 'srv_diff_host_rate' \n",
    ", 'dst_host_count' \n",
    ", 'dst_host_srv_count' \n",
    ", 'dst_host_same_srv_rate' \n",
    ", 'dst_host_diff_srv_rate' \n",
    ", 'dst_host_same_src_port_rate' \n",
    ", 'dst_host_srv_diff_host_rate' \n",
    ", 'dst_host_serror_rate' \n",
    ", 'dst_host_srv_serror_rate' \n",
    ", 'dst_host_rerror_rate' \n",
    ", 'dst_host_srv_rerror_rate' \n",
    ", 'attack_type' \n",
    ", 'diffic' ])"
   ]
  },
  {
   "cell_type": "code",
   "execution_count": 4,
   "metadata": {},
   "outputs": [],
   "source": [
    "attack_map = {'back':'dos',\n",
    "              'buffer_overflow':'u2r',\n",
    "              'ftp_write':'r2l',\n",
    "              'guess_passwd':'r2l',\n",
    "              'imap':'r2l',\n",
    "              'ipsweep':'probe',\n",
    "              'land':'dos',\n",
    "              'loadmodule':'u2r',\n",
    "              'multihop':'r2l',\n",
    "              'neptune':'dos',\n",
    "              'nmap':'probe',\n",
    "              'perl':'u2r',\n",
    "              'phf':'r2l',\n",
    "              'pod':'dos',\n",
    "              'portsweep':'probe',\n",
    "              'rootkit':'u2r',\n",
    "              'satan':'probe',\n",
    "              'smurf':'dos',\n",
    "              'spy':'r2l',\n",
    "              'teardrop':'dos',\n",
    "              'warezclient':'r2l',\n",
    "              'warezmaster':'r2l',\n",
    "              'normal':'normal',\n",
    "              'unknown':'unknown'}"
   ]
  },
  {
   "cell_type": "code",
   "execution_count": 5,
   "metadata": {},
   "outputs": [],
   "source": [
    "kdd['attack_type'] = kdd['attack_type'].replace(attack_map)"
   ]
  },
  {
   "cell_type": "code",
   "execution_count": 6,
   "metadata": {},
   "outputs": [],
   "source": [
    "service_map ={'aol':'0',\n",
    "          'auth':'1',\n",
    "          'bgp':'2',\n",
    "          'courier':'3',\n",
    "          'csnet_ns':'4',\n",
    "          'ctf':'5',\n",
    "          'daytime':'6',\n",
    "          'discard':'7',\n",
    "          'domain':'8',\n",
    "          'domain_u':'9', \n",
    "          'echo':'10',\n",
    "          'eco_i':'11', \n",
    "          'ecr_i':'12' ,\n",
    "          'efs':'13',\n",
    "          'exec':'14',\n",
    "          'finger':'15',\n",
    "          'ftp':'16',\n",
    "          'ftp_data':'17',\n",
    "          'gopher':'18',\n",
    "          'harvest':'19',\n",
    "          'hostnames':'20',\n",
    "          'http':'21',\n",
    "          'http_2784':'22',\n",
    "          'http_443':'23',\n",
    "          'http_8001':'24',\n",
    "          'imap4':'25',\n",
    "          'IRC':'26',\n",
    "          'iso_tsap':'27',\n",
    "          'klogin':'28',\n",
    "          'kshell':'29',\n",
    "          'ldap':'30',\n",
    "          'link':'31',\n",
    "          'login':'32',\n",
    "          'mtp':'33',\n",
    "          'name':'34',\n",
    "          'netbios_dgm':'35',\n",
    "          'netbios_ns':'36',\n",
    "          'netbios_ssn':'37',\n",
    "          'netstat':'38',\n",
    "          'nnsp':'39',\n",
    "          'nntp':'40',\n",
    "          'ntp_u':'41',\n",
    "          'other':'42',\n",
    "          'pm_dump':'43',\n",
    "          'pop_2':'44',\n",
    "          'pop_3':'45',\n",
    "          'printer':'46',\n",
    "          'private':'47',\n",
    "          'red_i':'48',\n",
    "          'remote_job':'49',\n",
    "          'rje':'50',\n",
    "          'shell':'51',\n",
    "          'smtp':'52',\n",
    "          'sql_net':'53',\n",
    "          'ssh':'54',\n",
    "          'sunrpc':'55',\n",
    "          'supdup':'56',\n",
    "          'systat':'57',\n",
    "          'telnet':'58',\n",
    "          'tftp_u':'59',\n",
    "          'tim_i':'60',\n",
    "          'time':'61',\n",
    "          'urh_i':'62',\n",
    "          'urp_i':'63',\n",
    "          'uucp':'64',\n",
    "          'uucp_path':'65',\n",
    "          'vmnet':'66',\n",
    "          'whois':'67',\n",
    "          'X11':'68',\n",
    "          'Z39_50':'69'}"
   ]
  },
  {
   "cell_type": "code",
   "execution_count": 7,
   "metadata": {},
   "outputs": [],
   "source": [
    "kdd[\"service\"] = kdd[\"service\"].replace(service_map)"
   ]
  },
  {
   "cell_type": "markdown",
   "metadata": {},
   "source": [
    "get_state_str() func in kdd_extractor project"
   ]
  },
  {
   "cell_type": "code",
   "execution_count": 8,
   "metadata": {},
   "outputs": [],
   "source": [
    "flag_map = {'OTH':'0',\n",
    "            'REJ':'1',\n",
    "            'RSTO':'2',\n",
    "            'RSTOS0':'3',\n",
    "            'RSTR':'4',\n",
    "            'S0':'5',\n",
    "            'S1':'6',\n",
    "            'S2':'7',\n",
    "            'S3':'8',\n",
    "            'SF':'9',\n",
    "            'SH':'10'}"
   ]
  },
  {
   "cell_type": "code",
   "execution_count": 9,
   "metadata": {},
   "outputs": [],
   "source": [
    "kdd['flag'] = kdd['flag'].replace(flag_map)"
   ]
  },
  {
   "cell_type": "code",
   "execution_count": 10,
   "metadata": {},
   "outputs": [],
   "source": [
    "def getprotocol(protocol_type):\n",
    "        if protocol_type == \"tcp\":\n",
    "            return 1\n",
    "        elif protocol_type == \"udp\":\n",
    "            return 2\n",
    "        else:\n",
    "            return 0\n",
    "kdd[\"protocol_type\"] = kdd[\"protocol_type\"].apply(getprotocol)"
   ]
  },
  {
   "cell_type": "code",
   "execution_count": 11,
   "metadata": {},
   "outputs": [],
   "source": [
    "at_map={'normal':'0',\n",
    "        'u2r':'1',\n",
    "        'r2l':'2',\n",
    "        'probe':'3',\n",
    "        'dos':'4'}"
   ]
  },
  {
   "cell_type": "code",
   "execution_count": 12,
   "metadata": {},
   "outputs": [],
   "source": [
    "kdd['attack_type'] = kdd['attack_type'].replace(at_map)"
   ]
  },
  {
   "cell_type": "code",
   "execution_count": 13,
   "metadata": {},
   "outputs": [],
   "source": [
    "kdd1 = kdd.iloc[:,:9]\n",
    "kdd2 = kdd.iloc[:,22:]\n",
    "kddconcat = pd.concat([kdd1,kdd2],axis=1)"
   ]
  },
  {
   "cell_type": "code",
   "execution_count": 14,
   "metadata": {},
   "outputs": [],
   "source": [
    "X = kddconcat.iloc[:,:-2]\n",
    "X = pd.DataFrame(X,dtype=float)"
   ]
  },
  {
   "cell_type": "code",
   "execution_count": 15,
   "metadata": {
    "scrolled": true
   },
   "outputs": [
    {
     "name": "stderr",
     "output_type": "stream",
     "text": [
      "c:\\program files (x86)\\microsoft visual studio\\shared\\python36_64\\lib\\site-packages\\sklearn\\preprocessing\\_encoders.py:363: FutureWarning: The handling of integer data will change in version 0.22. Currently, the categories are determined based on the range [0, max(values)], while in the future they will be determined based on the unique values.\n",
      "If you want the future behaviour and silence this warning, you can specify \"categories='auto'\".\n",
      "In case you used a LabelEncoder before this OneHotEncoder to convert the categories to integers, then you can now use the OneHotEncoder directly.\n",
      "  warnings.warn(msg, FutureWarning)\n"
     ]
    }
   ],
   "source": [
    "from sklearn.preprocessing import OneHotEncoder\n",
    "encoder = OneHotEncoder()\n",
    "def onehot(self):\n",
    "    return encoder.fit_transform(self.values.reshape(-1,1)).toarray()\n",
    "y = pd.DataFrame(onehot(kddconcat['attack_type']),dtype=float)"
   ]
  },
  {
   "cell_type": "code",
   "execution_count": 16,
   "metadata": {},
   "outputs": [],
   "source": [
    "y = pd.DataFrame(y,dtype=float)"
   ]
  },
  {
   "cell_type": "code",
   "execution_count": 19,
   "metadata": {},
   "outputs": [],
   "source": [
    "X = X.astype('float32')\n",
    "y = y.astype('float32')"
   ]
  },
  {
   "cell_type": "code",
   "execution_count": 20,
   "metadata": {},
   "outputs": [],
   "source": [
    "X.to_csv('D:/Dataset/NSL_KDD-master/withoutonehotX.csv', index=False)\n",
    "y.to_csv('D:/Dataset/NSL_KDD-master/withoutonehoty.csv', index=False)"
   ]
  },
  {
   "cell_type": "code",
   "execution_count": 24,
   "metadata": {
    "collapsed": true
   },
   "outputs": [
    {
     "data": {
      "text/plain": [
       "duration                       float32\n",
       "protocol_type                  float32\n",
       "service                        float32\n",
       "flag                           float32\n",
       "src_bytes                      float32\n",
       "dst_bytes                      float32\n",
       "land                           float32\n",
       "wrong_fragment                 float32\n",
       "urgent                         float32\n",
       "count                          float32\n",
       "srv_count                      float32\n",
       "serror_rate                    float32\n",
       "srv_serror_rate                float32\n",
       "rerror_rate                    float32\n",
       "srv_rerror_rate                float32\n",
       "same_srv_rate                  float32\n",
       "diff_srv_rate                  float32\n",
       "srv_diff_host_rate             float32\n",
       "dst_host_count                 float32\n",
       "dst_host_srv_count             float32\n",
       "dst_host_same_srv_rate         float32\n",
       "dst_host_diff_srv_rate         float32\n",
       "dst_host_same_src_port_rate    float32\n",
       "dst_host_srv_diff_host_rate    float32\n",
       "dst_host_serror_rate           float32\n",
       "dst_host_srv_serror_rate       float32\n",
       "dst_host_rerror_rate           float32\n",
       "dst_host_srv_rerror_rate       float32\n",
       "dtype: object"
      ]
     },
     "execution_count": 24,
     "metadata": {},
     "output_type": "execute_result"
    }
   ],
   "source": [
    "X.dtypes"
   ]
  },
  {
   "cell_type": "code",
   "execution_count": 25,
   "metadata": {},
   "outputs": [],
   "source": [
    "XX = pd.read_csv('D:/Dataset/NSL_KDD-master/withoutonehotX.csv')"
   ]
  },
  {
   "cell_type": "code",
   "execution_count": 26,
   "metadata": {},
   "outputs": [
    {
     "data": {
      "text/plain": [
       "duration                       float64\n",
       "protocol_type                  float64\n",
       "service                        float64\n",
       "flag                           float64\n",
       "src_bytes                      float64\n",
       "dst_bytes                      float64\n",
       "land                           float64\n",
       "wrong_fragment                 float64\n",
       "urgent                         float64\n",
       "count                          float64\n",
       "srv_count                      float64\n",
       "serror_rate                    float64\n",
       "srv_serror_rate                float64\n",
       "rerror_rate                    float64\n",
       "srv_rerror_rate                float64\n",
       "same_srv_rate                  float64\n",
       "diff_srv_rate                  float64\n",
       "srv_diff_host_rate             float64\n",
       "dst_host_count                 float64\n",
       "dst_host_srv_count             float64\n",
       "dst_host_same_srv_rate         float64\n",
       "dst_host_diff_srv_rate         float64\n",
       "dst_host_same_src_port_rate    float64\n",
       "dst_host_srv_diff_host_rate    float64\n",
       "dst_host_serror_rate           float64\n",
       "dst_host_srv_serror_rate       float64\n",
       "dst_host_rerror_rate           float64\n",
       "dst_host_srv_rerror_rate       float64\n",
       "dtype: object"
      ]
     },
     "execution_count": 26,
     "metadata": {},
     "output_type": "execute_result"
    }
   ],
   "source": [
    "XX.dtypes"
   ]
  },
  {
   "cell_type": "code",
   "execution_count": null,
   "metadata": {},
   "outputs": [],
   "source": []
  }
 ],
 "metadata": {
  "kernelspec": {
   "display_name": "Python 3",
   "language": "python",
   "name": "python3"
  },
  "language_info": {
   "codemirror_mode": {
    "name": "ipython",
    "version": 3
   },
   "file_extension": ".py",
   "mimetype": "text/x-python",
   "name": "python",
   "nbconvert_exporter": "python",
   "pygments_lexer": "ipython3",
   "version": "3.6.5"
  }
 },
 "nbformat": 4,
 "nbformat_minor": 2
}
